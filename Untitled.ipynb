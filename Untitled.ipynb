{
 "cells": [
  {
   "cell_type": "code",
   "execution_count": 75,
   "metadata": {},
   "outputs": [
    {
     "data": {
      "image/jpeg": "[encoded data removed]",
      "text/plain": [
       "<IPython.core.display.Image object>"
      ]
     },
     "execution_count": 75,
     "metadata": {},
     "output_type": "execute_result"
    }
   ],
   "source": [
    "from IPython.display import Image\n",
    "Image(filename='beef36fd707d.jpg')\n",
    "\n"
   ]
  },
  {
   "cell_type": "markdown",
   "metadata": {},
   "source": [
    "### Twitter Data Sentiment Analysis\n",
    "- 1) Twitter Data:- First step is to configure twitter API and gather twitter data\n",
    "- 2) Clean the data\n",
    "- 3) Sentiment:- To find out sentiments\n",
    "- 4) Analysis:- To do analysis"
   ]
  },
  {
   "cell_type": "code",
   "execution_count": 47,
   "metadata": {},
   "outputs": [],
   "source": [
    "import tweepy \n",
    "from textblob import TextBlob #sentimnts library\n",
    "import pandas as pd\n",
    "import matplotlib.pyplot as plt\n",
    "\n",
    "from wordcloud import WordCloud\n",
    "plt.style.use('fivethirtyeight')"
   ]
  },
  {
   "cell_type": "code",
   "execution_count": 2,
   "metadata": {},
   "outputs": [],
   "source": [
    "APIKey=\"W2XtGXNhNK9M03XcEA9LLVa17\"\n",
    "APISecretKey=\"J7wmwyKXxBfaOmn2LVtLloP28NJWcrUR6L2MQeqn8VFAjC6nQO\"\n",
    "accessToken=\"1387284148713234445-21fcTuPB6LTh6Zyi9Zxb5zxrxEIu8N\"\n",
    "accessTokenSecret=\"UK4vgiRYtjkev6c3JouvqXkv4Z0FQD3fsmbPYHPJFiItG\"\n"
   ]
  },
  {
   "cell_type": "code",
   "execution_count": 3,
   "metadata": {},
   "outputs": [],
   "source": [
    "### Authenticate\n",
    "authenticate= tweepy.OAuthHandler(APIKey,APISecretKey)\n",
    "authenticate.set_access_token(accessToken,accessTokenSecret)\n",
    "api=tweepy.API(authenticate)"
   ]
  },
  {
   "cell_type": "code",
   "execution_count": 4,
   "metadata": {},
   "outputs": [
    {
     "name": "stdout",
     "output_type": "stream",
     "text": [
      "1)There’s nothing quite like summer in Chicago. Experience the city’s most special season with @TrumpHotels #NeverSettleOffer, featuring 2 tickets for Wendella's architectural boat cruise, a dining credit, and a summer-themed welcome amenity. https://t.co/LI7io91g0C https://t.co/RkJZutpHU4\n",
      "\n",
      "2)The iconic @TrumpTurnberry boasts championship golf, stunning coastline views, and the cutest pups around. #NationalTakeYourDogToWorkDay https://t.co/lv7wzjgVUW\n",
      "\n",
      "3)Soak up summertime at Oahu's only Forbes Travel Guide Five-Star hotel, @TrumpWaikiki. Our @TrumpHotels #NeverSettleSummer offer features private surf lessons, a resort credit, a keepsake Trump Waikiki beach bag, and more. Book today: https://t.co/Ek9eUIw9cL https://t.co/RIqOTl74dZ\n",
      "\n",
      "4)Today we celebrate the many incredible fathers throughout our Trump Organization family. Happy Father’s Day to you! https://t.co/6MEURn6i6I\n",
      "\n",
      "5)‘Tis the season for lounging poolside. https://t.co/CWh2qKkB5C\n",
      "\n",
      "6)Find Dad’s favorite gift on @TrumpStore’s Father's Day Gift Guide. Last chance for expedited shipping—order today at https://t.co/GYcOona8CS! https://t.co/NJrW7mCDLA\n",
      "\n",
      "7)Celebrate the Stars and Stripes with @TrumpHotels Flag Day sale! Today only, enjoy 30% savings on stays at any of our U.S. destinations through December 31st. Use code FLAGDAY to book: https://t.co/jKKX6AkwAw. https://t.co/rBWCCJoA9Z\n",
      "\n",
      "8)Pairing #NationalRoséDay with the perfect accessory: @TrumpStore’s Riedel wine glasses. Shop the full Rosé Day collection at https://t.co/x5l4W4Igym. https://t.co/1OUuHAlnIe\n",
      "\n",
      "9)We’ll never tire of @TrumpTurnberry’s legendary lighthouse views. \n",
      "\n",
      "📷: James GoldenBoy https://t.co/TwBLi6pZZE\n",
      "\n",
      "10)RT @TrumpHotels: Don't miss out on our next offer! Join our mailing list to stay up to date on #TrumpHotels exclusive offers, promotions, a…\n",
      "\n"
     ]
    }
   ],
   "source": [
    "posts=api.user_timeline(screen_name='Trump',count=100,lang=\"en\",tweet_mode='extended')\n",
    "i=1\n",
    "for tweet in posts[:10]:\n",
    "    print(str(i)+')'+ tweet.full_text+'\\n')\n",
    "    i=i+1"
   ]
  },
  {
   "cell_type": "code",
   "execution_count": 9,
   "metadata": {},
   "outputs": [],
   "source": [
    "# Create a dataframe with a column called tweets\n",
    "df=pd.DataFrame([tweet.full_text for tweet in posts],columns=['Tweets'])"
   ]
  },
  {
   "cell_type": "code",
   "execution_count": 10,
   "metadata": {},
   "outputs": [
    {
     "data": {
      "text/html": [
       "<div>\n",
       "<style scoped>\n",
       "    .dataframe tbody tr th:only-of-type {\n",
       "        vertical-align: middle;\n",
       "    }\n",
       "\n",
       "    .dataframe tbody tr th {\n",
       "        vertical-align: top;\n",
       "    }\n",
       "\n",
       "    .dataframe thead th {\n",
       "        text-align: right;\n",
       "    }\n",
       "</style>\n",
       "<table border=\"1\" class=\"dataframe\">\n",
       "  <thead>\n",
       "    <tr style=\"text-align: right;\">\n",
       "      <th></th>\n",
       "      <th>Tweets</th>\n",
       "    </tr>\n",
       "  </thead>\n",
       "  <tbody>\n",
       "    <tr>\n",
       "      <th>0</th>\n",
       "      <td>There’s nothing quite like summer in Chicago. ...</td>\n",
       "    </tr>\n",
       "    <tr>\n",
       "      <th>1</th>\n",
       "      <td>The iconic @TrumpTurnberry boasts championship...</td>\n",
       "    </tr>\n",
       "    <tr>\n",
       "      <th>2</th>\n",
       "      <td>Soak up summertime at Oahu's only Forbes Trave...</td>\n",
       "    </tr>\n",
       "    <tr>\n",
       "      <th>3</th>\n",
       "      <td>Today we celebrate the many incredible fathers...</td>\n",
       "    </tr>\n",
       "    <tr>\n",
       "      <th>4</th>\n",
       "      <td>‘Tis the season for lounging poolside. https:/...</td>\n",
       "    </tr>\n",
       "    <tr>\n",
       "      <th>...</th>\n",
       "      <td>...</td>\n",
       "    </tr>\n",
       "    <tr>\n",
       "      <th>95</th>\n",
       "      <td>Get in the holiday spirit while skating across...</td>\n",
       "    </tr>\n",
       "    <tr>\n",
       "      <th>96</th>\n",
       "      <td>RT @TrumpTower: Our first snowfall of the seas...</td>\n",
       "    </tr>\n",
       "    <tr>\n",
       "      <th>97</th>\n",
       "      <td>Our Christmas tree at @TrumpDC is bringing a n...</td>\n",
       "    </tr>\n",
       "    <tr>\n",
       "      <th>98</th>\n",
       "      <td>RT @EricTrump: Every Christmas, our office col...</td>\n",
       "    </tr>\n",
       "    <tr>\n",
       "      <th>99</th>\n",
       "      <td>Unwind by an inviting fire and discover a weal...</td>\n",
       "    </tr>\n",
       "  </tbody>\n",
       "</table>\n",
       "<p>100 rows × 1 columns</p>\n",
       "</div>"
      ],
      "text/plain": [
       "                                               Tweets\n",
       "0   There’s nothing quite like summer in Chicago. ...\n",
       "1   The iconic @TrumpTurnberry boasts championship...\n",
       "2   Soak up summertime at Oahu's only Forbes Trave...\n",
       "3   Today we celebrate the many incredible fathers...\n",
       "4   ‘Tis the season for lounging poolside. https:/...\n",
       "..                                                ...\n",
       "95  Get in the holiday spirit while skating across...\n",
       "96  RT @TrumpTower: Our first snowfall of the seas...\n",
       "97  Our Christmas tree at @TrumpDC is bringing a n...\n",
       "98  RT @EricTrump: Every Christmas, our office col...\n",
       "99  Unwind by an inviting fire and discover a weal...\n",
       "\n",
       "[100 rows x 1 columns]"
      ]
     },
     "execution_count": 10,
     "metadata": {},
     "output_type": "execute_result"
    }
   ],
   "source": [
    "df"
   ]
  },
  {
   "cell_type": "code",
   "execution_count": 31,
   "metadata": {},
   "outputs": [],
   "source": [
    "def cleanTxt(text):\n",
    "    text=re.sub('@[a-zA-Z0-9]*','',text)\n",
    "    text=re.sub(\"#\",'',text)\n",
    "    text=re.sub('RT[\\s]+','',text)\n",
    "    text=re.sub('https?:\\/\\/\\S+','',text)\n",
    "    return text"
   ]
  },
  {
   "cell_type": "code",
   "execution_count": 32,
   "metadata": {},
   "outputs": [],
   "source": [
    "df['Tweets']=df['Tweets'].apply(cleanTxt)"
   ]
  },
  {
   "cell_type": "code",
   "execution_count": 33,
   "metadata": {},
   "outputs": [
    {
     "data": {
      "text/html": [
       "<div>\n",
       "<style scoped>\n",
       "    .dataframe tbody tr th:only-of-type {\n",
       "        vertical-align: middle;\n",
       "    }\n",
       "\n",
       "    .dataframe tbody tr th {\n",
       "        vertical-align: top;\n",
       "    }\n",
       "\n",
       "    .dataframe thead th {\n",
       "        text-align: right;\n",
       "    }\n",
       "</style>\n",
       "<table border=\"1\" class=\"dataframe\">\n",
       "  <thead>\n",
       "    <tr style=\"text-align: right;\">\n",
       "      <th></th>\n",
       "      <th>Tweets</th>\n",
       "    </tr>\n",
       "  </thead>\n",
       "  <tbody>\n",
       "    <tr>\n",
       "      <th>0</th>\n",
       "      <td>There’s nothing quite like summer in Chicago. ...</td>\n",
       "    </tr>\n",
       "    <tr>\n",
       "      <th>1</th>\n",
       "      <td>The iconic  boasts championship golf, stunning...</td>\n",
       "    </tr>\n",
       "    <tr>\n",
       "      <th>2</th>\n",
       "      <td>Soak up summertime at Oahu's only Forbes Trave...</td>\n",
       "    </tr>\n",
       "    <tr>\n",
       "      <th>3</th>\n",
       "      <td>Today we celebrate the many incredible fathers...</td>\n",
       "    </tr>\n",
       "    <tr>\n",
       "      <th>4</th>\n",
       "      <td>‘Tis the season for lounging poolside.</td>\n",
       "    </tr>\n",
       "    <tr>\n",
       "      <th>...</th>\n",
       "      <td>...</td>\n",
       "    </tr>\n",
       "    <tr>\n",
       "      <th>95</th>\n",
       "      <td>Get in the holiday spirit while skating across...</td>\n",
       "    </tr>\n",
       "    <tr>\n",
       "      <th>96</th>\n",
       "      <td>: Our first snowfall of the season! ❄️</td>\n",
       "    </tr>\n",
       "    <tr>\n",
       "      <th>97</th>\n",
       "      <td>Our Christmas tree at  is bringing a new level...</td>\n",
       "    </tr>\n",
       "    <tr>\n",
       "      <th>98</th>\n",
       "      <td>: Every Christmas, our office collects holiday...</td>\n",
       "    </tr>\n",
       "    <tr>\n",
       "      <th>99</th>\n",
       "      <td>Unwind by an inviting fire and discover a weal...</td>\n",
       "    </tr>\n",
       "  </tbody>\n",
       "</table>\n",
       "<p>100 rows × 1 columns</p>\n",
       "</div>"
      ],
      "text/plain": [
       "                                               Tweets\n",
       "0   There’s nothing quite like summer in Chicago. ...\n",
       "1   The iconic  boasts championship golf, stunning...\n",
       "2   Soak up summertime at Oahu's only Forbes Trave...\n",
       "3   Today we celebrate the many incredible fathers...\n",
       "4             ‘Tis the season for lounging poolside. \n",
       "..                                                ...\n",
       "95  Get in the holiday spirit while skating across...\n",
       "96            : Our first snowfall of the season! ❄️ \n",
       "97  Our Christmas tree at  is bringing a new level...\n",
       "98  : Every Christmas, our office collects holiday...\n",
       "99  Unwind by an inviting fire and discover a weal...\n",
       "\n",
       "[100 rows x 1 columns]"
      ]
     },
     "execution_count": 33,
     "metadata": {},
     "output_type": "execute_result"
    }
   ],
   "source": [
    "df"
   ]
  },
  {
   "cell_type": "code",
   "execution_count": 43,
   "metadata": {},
   "outputs": [],
   "source": [
    "analysis=TextBlob(\"Today was the beautiful day\")"
   ]
  },
  {
   "cell_type": "code",
   "execution_count": 44,
   "metadata": {},
   "outputs": [
    {
     "data": {
      "text/plain": [
       "Sentiment(polarity=0.85, subjectivity=1.0)"
      ]
     },
     "execution_count": 44,
     "metadata": {},
     "output_type": "execute_result"
    }
   ],
   "source": [
    "analysis.sentiment"
   ]
  },
  {
   "cell_type": "code",
   "execution_count": 34,
   "metadata": {},
   "outputs": [],
   "source": [
    "# create a function to get the subjectivity of all the tweets\n",
    "def getSubject(text):\n",
    "    return TextBlob(text).sentiment.subjectivity\n",
    "# create a function to get the Polarity of all the tweets\n",
    "def getPolar(text):\n",
    "    return TextBlob(text).sentiment.polarity\n",
    "\n",
    "#create columns subj and polar\n",
    "df['Subjectivity']=df['Tweets'].apply(getSubject)\n",
    "df['Polarity']=df['Tweets'].apply(getPolar)"
   ]
  },
  {
   "cell_type": "code",
   "execution_count": 48,
   "metadata": {},
   "outputs": [
    {
     "data": {
      "text/html": [
       "<div>\n",
       "<style scoped>\n",
       "    .dataframe tbody tr th:only-of-type {\n",
       "        vertical-align: middle;\n",
       "    }\n",
       "\n",
       "    .dataframe tbody tr th {\n",
       "        vertical-align: top;\n",
       "    }\n",
       "\n",
       "    .dataframe thead th {\n",
       "        text-align: right;\n",
       "    }\n",
       "</style>\n",
       "<table border=\"1\" class=\"dataframe\">\n",
       "  <thead>\n",
       "    <tr style=\"text-align: right;\">\n",
       "      <th></th>\n",
       "      <th>Tweets</th>\n",
       "      <th>Subjectivity</th>\n",
       "      <th>Polarity</th>\n",
       "    </tr>\n",
       "  </thead>\n",
       "  <tbody>\n",
       "    <tr>\n",
       "      <th>0</th>\n",
       "      <td>The iconic  boasts championship golf, stunning...</td>\n",
       "      <td>0.750000</td>\n",
       "      <td>0.500000</td>\n",
       "    </tr>\n",
       "    <tr>\n",
       "      <th>1</th>\n",
       "      <td>Soak up summertime at Oahu's only Forbes Trave...</td>\n",
       "      <td>0.625000</td>\n",
       "      <td>0.166667</td>\n",
       "    </tr>\n",
       "    <tr>\n",
       "      <th>2</th>\n",
       "      <td>Today we celebrate the many incredible fathers...</td>\n",
       "      <td>0.800000</td>\n",
       "      <td>0.800000</td>\n",
       "    </tr>\n",
       "    <tr>\n",
       "      <th>3</th>\n",
       "      <td>‘Tis the season for lounging poolside.</td>\n",
       "      <td>0.000000</td>\n",
       "      <td>0.000000</td>\n",
       "    </tr>\n",
       "    <tr>\n",
       "      <th>4</th>\n",
       "      <td>Find Dad’s favorite gift on ’s Father's Day Gi...</td>\n",
       "      <td>0.533333</td>\n",
       "      <td>0.250000</td>\n",
       "    </tr>\n",
       "    <tr>\n",
       "      <th>...</th>\n",
       "      <td>...</td>\n",
       "      <td>...</td>\n",
       "      <td>...</td>\n",
       "    </tr>\n",
       "    <tr>\n",
       "      <th>95</th>\n",
       "      <td>: Our first snowfall of the season! ❄️</td>\n",
       "      <td>0.333333</td>\n",
       "      <td>0.312500</td>\n",
       "    </tr>\n",
       "    <tr>\n",
       "      <th>96</th>\n",
       "      <td>Our Christmas tree at  is bringing a new level...</td>\n",
       "      <td>0.454545</td>\n",
       "      <td>0.136364</td>\n",
       "    </tr>\n",
       "    <tr>\n",
       "      <th>97</th>\n",
       "      <td>: Every Christmas, our office collects holiday...</td>\n",
       "      <td>0.391667</td>\n",
       "      <td>0.358333</td>\n",
       "    </tr>\n",
       "    <tr>\n",
       "      <th>98</th>\n",
       "      <td>Unwind by an inviting fire and discover a weal...</td>\n",
       "      <td>0.166667</td>\n",
       "      <td>0.166667</td>\n",
       "    </tr>\n",
       "    <tr>\n",
       "      <th>99</th>\n",
       "      <td>: Hosting the Great One  with Masters champion...</td>\n",
       "      <td>0.472222</td>\n",
       "      <td>0.377778</td>\n",
       "    </tr>\n",
       "  </tbody>\n",
       "</table>\n",
       "<p>100 rows × 3 columns</p>\n",
       "</div>"
      ],
      "text/plain": [
       "                                               Tweets  Subjectivity  Polarity\n",
       "0   The iconic  boasts championship golf, stunning...      0.750000  0.500000\n",
       "1   Soak up summertime at Oahu's only Forbes Trave...      0.625000  0.166667\n",
       "2   Today we celebrate the many incredible fathers...      0.800000  0.800000\n",
       "3             ‘Tis the season for lounging poolside.       0.000000  0.000000\n",
       "4   Find Dad’s favorite gift on ’s Father's Day Gi...      0.533333  0.250000\n",
       "..                                                ...           ...       ...\n",
       "95            : Our first snowfall of the season! ❄️       0.333333  0.312500\n",
       "96  Our Christmas tree at  is bringing a new level...      0.454545  0.136364\n",
       "97  : Every Christmas, our office collects holiday...      0.391667  0.358333\n",
       "98  Unwind by an inviting fire and discover a weal...      0.166667  0.166667\n",
       "99  : Hosting the Great One  with Masters champion...      0.472222  0.377778\n",
       "\n",
       "[100 rows x 3 columns]"
      ]
     },
     "execution_count": 48,
     "metadata": {},
     "output_type": "execute_result"
    }
   ],
   "source": [
    "df"
   ]
  },
  {
   "cell_type": "markdown",
   "metadata": {},
   "source": [
    "#  Do Analysis"
   ]
  },
  {
   "cell_type": "code",
   "execution_count": 35,
   "metadata": {},
   "outputs": [
    {
     "data": {
      "image/png": "[encoded data removed]",
      "text/plain": [
       "<Figure size 432x288 with 1 Axes>"
      ]
     },
     "metadata": {
      "needs_background": "light"
     },
     "output_type": "display_data"
    }
   ],
   "source": [
    "#WordCloud Visualization\n",
    "allwords = ''.join([i for i in df['Tweets']])\n",
    "Cloud=WordCloud(random_state=0,max_font_size=100,width=500,height=300).generate(allwords)\n",
    "plt.imshow(Cloud)\n",
    "plt.show()"
   ]
  },
  {
   "cell_type": "code",
   "execution_count": 37,
   "metadata": {},
   "outputs": [
    {
     "data": {
      "text/html": [
       "<div>\n",
       "<style scoped>\n",
       "    .dataframe tbody tr th:only-of-type {\n",
       "        vertical-align: middle;\n",
       "    }\n",
       "\n",
       "    .dataframe tbody tr th {\n",
       "        vertical-align: top;\n",
       "    }\n",
       "\n",
       "    .dataframe thead th {\n",
       "        text-align: right;\n",
       "    }\n",
       "</style>\n",
       "<table border=\"1\" class=\"dataframe\">\n",
       "  <thead>\n",
       "    <tr style=\"text-align: right;\">\n",
       "      <th></th>\n",
       "      <th>Tweets</th>\n",
       "      <th>Subjectivity</th>\n",
       "      <th>Polarity</th>\n",
       "      <th>Analysis</th>\n",
       "    </tr>\n",
       "  </thead>\n",
       "  <tbody>\n",
       "    <tr>\n",
       "      <th>0</th>\n",
       "      <td>There’s nothing quite like summer in Chicago. ...</td>\n",
       "      <td>0.657143</td>\n",
       "      <td>0.552381</td>\n",
       "      <td>Positive</td>\n",
       "    </tr>\n",
       "    <tr>\n",
       "      <th>1</th>\n",
       "      <td>The iconic  boasts championship golf, stunning...</td>\n",
       "      <td>0.750000</td>\n",
       "      <td>0.500000</td>\n",
       "      <td>Positive</td>\n",
       "    </tr>\n",
       "    <tr>\n",
       "      <th>2</th>\n",
       "      <td>Soak up summertime at Oahu's only Forbes Trave...</td>\n",
       "      <td>0.625000</td>\n",
       "      <td>0.166667</td>\n",
       "      <td>Positive</td>\n",
       "    </tr>\n",
       "    <tr>\n",
       "      <th>3</th>\n",
       "      <td>Today we celebrate the many incredible fathers...</td>\n",
       "      <td>0.800000</td>\n",
       "      <td>0.800000</td>\n",
       "      <td>Positive</td>\n",
       "    </tr>\n",
       "    <tr>\n",
       "      <th>4</th>\n",
       "      <td>‘Tis the season for lounging poolside.</td>\n",
       "      <td>0.000000</td>\n",
       "      <td>0.000000</td>\n",
       "      <td>Neutral</td>\n",
       "    </tr>\n",
       "    <tr>\n",
       "      <th>...</th>\n",
       "      <td>...</td>\n",
       "      <td>...</td>\n",
       "      <td>...</td>\n",
       "      <td>...</td>\n",
       "    </tr>\n",
       "    <tr>\n",
       "      <th>95</th>\n",
       "      <td>Get in the holiday spirit while skating across...</td>\n",
       "      <td>0.520909</td>\n",
       "      <td>0.347273</td>\n",
       "      <td>Positive</td>\n",
       "    </tr>\n",
       "    <tr>\n",
       "      <th>96</th>\n",
       "      <td>: Our first snowfall of the season! ❄️</td>\n",
       "      <td>0.333333</td>\n",
       "      <td>0.312500</td>\n",
       "      <td>Positive</td>\n",
       "    </tr>\n",
       "    <tr>\n",
       "      <th>97</th>\n",
       "      <td>Our Christmas tree at  is bringing a new level...</td>\n",
       "      <td>0.454545</td>\n",
       "      <td>0.136364</td>\n",
       "      <td>Positive</td>\n",
       "    </tr>\n",
       "    <tr>\n",
       "      <th>98</th>\n",
       "      <td>: Every Christmas, our office collects holiday...</td>\n",
       "      <td>0.391667</td>\n",
       "      <td>0.358333</td>\n",
       "      <td>Positive</td>\n",
       "    </tr>\n",
       "    <tr>\n",
       "      <th>99</th>\n",
       "      <td>Unwind by an inviting fire and discover a weal...</td>\n",
       "      <td>0.166667</td>\n",
       "      <td>0.166667</td>\n",
       "      <td>Positive</td>\n",
       "    </tr>\n",
       "  </tbody>\n",
       "</table>\n",
       "<p>100 rows × 4 columns</p>\n",
       "</div>"
      ],
      "text/plain": [
       "                                               Tweets  Subjectivity  Polarity  \\\n",
       "0   There’s nothing quite like summer in Chicago. ...      0.657143  0.552381   \n",
       "1   The iconic  boasts championship golf, stunning...      0.750000  0.500000   \n",
       "2   Soak up summertime at Oahu's only Forbes Trave...      0.625000  0.166667   \n",
       "3   Today we celebrate the many incredible fathers...      0.800000  0.800000   \n",
       "4             ‘Tis the season for lounging poolside.       0.000000  0.000000   \n",
       "..                                                ...           ...       ...   \n",
       "95  Get in the holiday spirit while skating across...      0.520909  0.347273   \n",
       "96            : Our first snowfall of the season! ❄️       0.333333  0.312500   \n",
       "97  Our Christmas tree at  is bringing a new level...      0.454545  0.136364   \n",
       "98  : Every Christmas, our office collects holiday...      0.391667  0.358333   \n",
       "99  Unwind by an inviting fire and discover a weal...      0.166667  0.166667   \n",
       "\n",
       "    Analysis  \n",
       "0   Positive  \n",
       "1   Positive  \n",
       "2   Positive  \n",
       "3   Positive  \n",
       "4    Neutral  \n",
       "..       ...  \n",
       "95  Positive  \n",
       "96  Positive  \n",
       "97  Positive  \n",
       "98  Positive  \n",
       "99  Positive  \n",
       "\n",
       "[100 rows x 4 columns]"
      ]
     },
     "execution_count": 37,
     "metadata": {},
     "output_type": "execute_result"
    }
   ],
   "source": [
    "# Create a fucntion to compute negative neutral postive comments\n",
    "def getAnalysis(score):\n",
    "    if score<0:\n",
    "        return 'negative'\n",
    "    elif score==0:\n",
    "        return 'Neutral'\n",
    "    else:\n",
    "        return 'Positive'\n",
    "df['Analysis']=df['Polarity'].apply(getAnalysis)\n",
    "df"
   ]
  },
  {
   "cell_type": "code",
   "execution_count": 41,
   "metadata": {},
   "outputs": [
    {
     "data": {
      "text/html": [
       "<div>\n",
       "<style scoped>\n",
       "    .dataframe tbody tr th:only-of-type {\n",
       "        vertical-align: middle;\n",
       "    }\n",
       "\n",
       "    .dataframe tbody tr th {\n",
       "        vertical-align: top;\n",
       "    }\n",
       "\n",
       "    .dataframe thead th {\n",
       "        text-align: right;\n",
       "    }\n",
       "</style>\n",
       "<table border=\"1\" class=\"dataframe\">\n",
       "  <thead>\n",
       "    <tr style=\"text-align: right;\">\n",
       "      <th></th>\n",
       "      <th>Tweets</th>\n",
       "      <th>Subjectivity</th>\n",
       "      <th>Polarity</th>\n",
       "      <th>Analysis</th>\n",
       "    </tr>\n",
       "  </thead>\n",
       "  <tbody>\n",
       "    <tr>\n",
       "      <th>14</th>\n",
       "      <td>: Today we celebrate women in the game of golf...</td>\n",
       "      <td>0.4</td>\n",
       "      <td>-0.4000</td>\n",
       "      <td>negative</td>\n",
       "    </tr>\n",
       "    <tr>\n",
       "      <th>27</th>\n",
       "      <td>Savor the sweetness of  chocolates all summer ...</td>\n",
       "      <td>0.4</td>\n",
       "      <td>-0.0625</td>\n",
       "      <td>negative</td>\n",
       "    </tr>\n",
       "    <tr>\n",
       "      <th>48</th>\n",
       "      <td>: Not content with just donning green hats, ev...</td>\n",
       "      <td>0.3</td>\n",
       "      <td>-0.2250</td>\n",
       "      <td>negative</td>\n",
       "    </tr>\n",
       "  </tbody>\n",
       "</table>\n",
       "</div>"
      ],
      "text/plain": [
       "                                               Tweets  Subjectivity  Polarity  \\\n",
       "14  : Today we celebrate women in the game of golf...           0.4   -0.4000   \n",
       "27  Savor the sweetness of  chocolates all summer ...           0.4   -0.0625   \n",
       "48  : Not content with just donning green hats, ev...           0.3   -0.2250   \n",
       "\n",
       "    Analysis  \n",
       "14  negative  \n",
       "27  negative  \n",
       "48  negative  "
      ]
     },
     "execution_count": 41,
     "metadata": {},
     "output_type": "execute_result"
    }
   ],
   "source": [
    "df[df['Analysis']=='negative']"
   ]
  },
  {
   "cell_type": "code",
   "execution_count": 42,
   "metadata": {},
   "outputs": [
    {
     "data": {
      "text/plain": [
       "Positive    84\n",
       "Neutral     13\n",
       "negative     3\n",
       "Name: Analysis, dtype: int64"
      ]
     },
     "execution_count": 42,
     "metadata": {},
     "output_type": "execute_result"
    }
   ],
   "source": [
    "df['Analysis'].value_counts()"
   ]
  },
  {
   "cell_type": "code",
   "execution_count": 53,
   "metadata": {},
   "outputs": [
    {
     "data": {
      "text/plain": [
       "<Figure size 576x432 with 0 Axes>"
      ]
     },
     "execution_count": 53,
     "metadata": {},
     "output_type": "execute_result"
    },
    {
     "data": {
      "image/png": "[encoded data removed]",
      "text/plain": [
       "<Figure size 432x288 with 1 Axes>"
      ]
     },
     "metadata": {},
     "output_type": "display_data"
    },
    {
     "data": {
      "text/plain": [
       "<Figure size 576x432 with 0 Axes>"
      ]
     },
     "metadata": {},
     "output_type": "display_data"
    }
   ],
   "source": [
    "## plotting scatter plot\n",
    "for i in range(0,df.shape[0]):\n",
    "    plt.scatter(df['Polarity'][i],df['Subjectivity'][i],color='Blue')\n",
    "    \n",
    "plt.title(\"Sentiment Analysis\")\n",
    "plt.xlim(-1,1)\n",
    "plt.xlabel('Polarity')\n",
    "plt.ylabel('Subjectivity')\n",
    "plt.figure(figsize=(8,6))"
   ]
  },
  {
   "cell_type": "code",
   "execution_count": 59,
   "metadata": {},
   "outputs": [
    {
     "data": {
      "image/png": "[encoded data removed]",
      "text/plain": [
       "<Figure size 432x288 with 1 Axes>"
      ]
     },
     "metadata": {},
     "output_type": "display_data"
    }
   ],
   "source": [
    "df['Analysis'].value_counts().plot(kind='bar')\n",
    "\n",
    "plt.title(\"Sentimental Analysis\")\n",
    "plt.xlabel('Polarity')\n",
    "plt.ylabel('Count')\n",
    "plt.show()"
   ]
  },
  {
   "cell_type": "markdown",
   "metadata": {},
   "source": [
    "### Only Positive tweets"
   ]
  },
  {
   "cell_type": "code",
   "execution_count": 65,
   "metadata": {},
   "outputs": [
    {
     "name": "stdout",
     "output_type": "stream",
     "text": [
      "1)There’s nothing quite like summer in Chicago. Experience the city’s most special season with  NeverSettleOffer, featuring 2 tickets for Wendella's architectural boat cruise, a dining credit, and a summer-themed welcome amenity.  \n",
      "\n",
      "2)The iconic  boasts championship golf, stunning coastline views, and the cutest pups around. NationalTakeYourDogToWorkDay \n",
      "\n",
      "3)Soak up summertime at Oahu's only Forbes Travel Guide Five-Star hotel, . Our  NeverSettleSummer offer features private surf lessons, a resort credit, a keepsake Trump Waikiki beach bag, and more. Book today:  \n",
      "\n",
      "4)Today we celebrate the many incredible fathers throughout our Trump Organization family. Happy Father’s Day to you! \n",
      "\n",
      "5)Find Dad’s favorite gift on ’s Father's Day Gift Guide. Last chance for expedited shipping—order today at  \n",
      "\n",
      "6)Celebrate the Stars and Stripes with  Flag Day sale! Today only, enjoy 30% savings on stays at any of our U.S. destinations through December 31st. Use code FLAGDAY to book:  \n",
      "\n",
      "7)Pairing NationalRoséDay with the perfect accessory: ’s Riedel wine glasses. Shop the full Rosé Day collection at  \n",
      "\n",
      "8)We’ll never tire of ’s legendary lighthouse views. \n",
      "\n",
      "📷: James GoldenBoy \n",
      "\n",
      "9): Don't miss out on our next offer! Join our mailing list to stay up to date on TrumpHotels exclusive offers, promotions, a…\n",
      "\n",
      "10)In honor of the USWomensOpen, we're excited to share the captivating history behind our very own , home of the 2017 U.S. Women's Open. \n",
      "\n",
      "Enjoy this read and join us as we wish the best of luck to the players competing this weekend! \n",
      "\n",
      "11)We are thrilled to share that our incredible properties, , , and , have all ranked in Golf World's Top 25 Resorts in Great Britain &amp; Ireland. Congratulations to our outstanding teams! \n",
      "\n",
      "12): Our resort is bustling with the excitement of opening today! Welcoming guests and meeting friends, both old and new, fill…\n",
      "\n",
      "13)Today our flags wave high for the brave men and women who made the ultimate sacrifice to protect our freedom. We thank you and we salute you. MemorialDay \n",
      "\n",
      "14)To which  destination does this stunning oasis belong? \n",
      "\n",
      "15): We wouldn't mind a trip over to  for a luxurious Las Vegas getaway, poolside days, and iconic views of the Strip…\n",
      "\n",
      "16): TrumpDoonbeg will be open and ready to welcome you on June 2! Experience a side of Ireland that is truly extraordinary wi…\n",
      "\n",
      "17)Defining luxury golf since 1962. Explore our Stay and Play Packages at  to experience all that America's most iconic resort has to offer.  \n",
      "\n",
      "18)Ideal for cocktail hour and breathtaking sunset vistas, the clubhouse at  is the perfect place to unwind on a beautiful spring night. \n",
      "\n",
      "19)Showcasing bold style, engaging design, and luxury accommodations along the Chicago River. Plan your next getaway at the stunning :  \n",
      "\n",
      "20)Today we celebrate and honor all mothers, but especially the wonderful mothers within our Trump Organization family. Happy MothersDay to you! \n",
      "\n",
      "21)Follow in the footsteps of golf legends on the two iconic links courses of , now open for play. \n",
      "\n",
      "Book your tee time:  \n",
      "\n",
      "22): Spotted: The ever innovative 's Burst Your Bubble cocktail in 's Netflix + Chill(ed): 12 C…\n",
      "\n",
      "23)Is  on your bucket list? Take a virtual tour of our oceanfront public course and discover the challenging game and unrivaled scenic beauty that awaits:  \n",
      "\n",
      "24)Central Park is truly one of the wonders of the world. At our corporate headquarters in Trump Tower, we are delighted to enjoy this spectacular view every day, but especially on EarthDay. \n",
      "\n",
      "25)Our  NeverSettle mantra has translated into nominations for the industry's top accolades! \n",
      "\n",
      "As you reflect on your favorite travel experiences with us, we would be honored to have your vote. Cast your ballot at  \n",
      "\n",
      "26): Ballots are open! Several TrumpHotels have been nominated for the industry's top accolades ✨ As you share your favorite t…\n",
      "\n",
      "27)Exquisite atmosphere, delectable cuisine, and 18 holes of world-class golf. We love escaping to  for a relaxing afternoon away from New York City.  \n",
      "\n",
      "28)We are delighted to welcome you back to  on April 26th! Escape to the Ayrshire Coast this spring and discover the endless experiences that await at this historic destination. For more details, visit  \n",
      "\n",
      "29)Each Palm Beach sunrise is more captivating than the last, especially when viewed from the extraordinary Beach Club at Mar-A-Lago. \n",
      "\n",
      "30)Pictured here is ’s exquisitely manicured English garden surrounded by 1,300 acres of magnificent Virginia wine country. \n",
      "\n",
      "31)Experience the magic of Cherry Blossom season with ’s Cherry Picked Luxury offer.\n",
      "\n",
      "You'll enjoy a private walking tour, daily breakfast, and exclusive Cherry Blossom amenities—all things that make this signature season even more special.  🌸 \n",
      "\n",
      "32)The always iconic Trump or the classic USA? Shop the full T45 Collection at  \n",
      "\n",
      "33): There's nothing like the sunny skies and stunning gardens at  to set the stage for your perfect moment. https:/…\n",
      "\n",
      "34)An ode to spring - to delectable cuisine, to New York City in bloom, to stunning Central Park views. Come see us this season at .🌳  \n",
      "\n",
      "35): Happy first day of spring from our Trump Golf family! What are you looking forward to most this season? \n",
      "\n",
      "36): With the most picturesque onsite chapel you have ever seen and an array of unique venues, weddings at the …\n",
      "\n",
      "37): Few things pair better than golf and Guinness, especially on StPatricksDay. \n",
      "\n",
      "38)Only at  can you enjoy a front-row seat to Chicago's longstanding tradition of dyeing the river green.🍀 \n",
      "\n",
      "39)Spring into travel this year with our Daylight Savings offer! TODAY ONLY, enjoy 30% off all room types at any of our iconic  destinations. Book now at  \n",
      "\n",
      "40): TODAY ONLY ⏰ Time to save more than just daylight! Spring into travel with our Daylight Savings offer and enjoy 30% off gu…\n",
      "\n",
      "41)Wake up with breathtaking views of the Caribbean Sea when you stay at Château des Palmiers, our luxurious estate on the stunning island of St. Martin.  \n",
      "\n",
      "42)There's no better place to Stay and Play than the legendary . Book your spring getaway at  \n",
      "\n",
      "43): Taking time today to appreciate each of the incredible women at the forefront of our destinations across the globe! We cel…\n",
      "\n",
      "44)We’re looking forward to spring and the start of patio season, especially from the breathtaking terrace at . \n",
      "\n",
      "45)Spectacular ocean views, incredible location, and impeccable details make this newly listed, 8,269 square foot estate a magnificent home for Palm Beach living. \n",
      "\n",
      "For inquiries, visit  \n",
      "\n",
      "46)A castle, a king, and a lighthouse. Discover the compelling story behind one of our greatest Trump Treasures, the  Lighthouse. \n",
      "\n",
      "47)From signature cocktails to sweeping views, you’ll neversettle for less than exceptional when you stay at .\n",
      "\n",
      "Visit  for reservations.✨ \n",
      "\n",
      "48): We are proud to announce that 7 of our destinations are among the first hotels in the world to become Sharecare Health Sec…\n",
      "\n",
      "49)Our beautiful flag waves proudly today and every day, but especially on Presidents Day.🇺🇸 \n",
      "\n",
      "50)Roses are red, fountains are blue, we'd love to have a spa day at  with you! Visit  to reserve your treatment. \n",
      "\n",
      "51)An entrance should always be entrancing, such as the stunning entryway pictured here at the distinguished . \n",
      "\n",
      "52): Give the gift of luxury to that special someone! Our eGift Cards can be used at all Trump Hotels destinations for the expe…\n",
      "\n",
      "53)An iconic addition to our  selection, get your TRUMP hat at  \n",
      "\n",
      "54)With Pacific Ocean views from every hole,  presents a challenging game with unrivaled scenic beauty. Visit  to book your tee time. \n",
      "\n",
      "55): Which iconic pairing do you prefer? Rosé Champagne + Chocolate 🥂 OR Dalmore Whiskey + Chocolate 🥃\n",
      "We might have to continue ta…\n",
      "\n",
      "56)Meticulously redeveloped to retain its incredible historic character. Who can guess which  is pictured here? \n",
      "\n",
      "57)Say \"I do\" at  among 1,300 acres of stunning Virginia wine country. From grand affairs to intimate gatherings, our expert team will ensure your special day is exactly as you imagined. Visit  \n",
      "\n",
      "58): Our 1930 landmark property was restored to its original grandeur in 1996 by . Today, we stand as one of the most re…\n",
      "\n",
      "59)Whether you're snowed in or under the sun, it's the perfect time to shop ’s Valentine's Day gift guide for your special someone:  \n",
      "\n",
      "60)Enjoy new American fare at ’s Terrace 16 amidst iconic views of downtown Chicago. \n",
      "\n",
      "Now open for indoor dining, book your reservation at  \n",
      "\n",
      "61)A jewel within our portfolio for more than 15 years, we invite you to follow , our 72-story landmark property in the heart of New York City's financial district.\n",
      "\n",
      "To learn more about this iconic building, visit  \n",
      "\n",
      "62): Welcome to 40 Wall Street, The Trump Building, where the history of New York’s financial district comes together with a ne…\n",
      "\n",
      "63): We're dreaming of this coastal scene at , where golfers can enjoy 18 holes of world-class golf and unforgettable…\n",
      "\n",
      "64): Designed for over the top Getaways set high above the Strip.  delivers a sophisticated take on Vegas style.…\n",
      "\n",
      "65)Luxury golf meets lush accommodations. Stay and play at , our premier golf resort destination in sunny South Florida:  \n",
      "\n",
      "66): In less than a week,  is back online and ready to accept orders. A true testament to our incredible team! Visit h…\n",
      "\n",
      "67)Wishing you all a bright, healthy and Happy New Year! We look forward to seeing everyone at our  and  destinations in 2021.🎊 \n",
      "\n",
      "68)Enjoy 15% off digital gift card orders of $100 or more through December 31st!\n",
      "\n",
      "Redeemable for , , and Trump retail stores, your next adventure awaits at our world-class destinations around the globe. Purchase yours at  \n",
      "\n",
      "69): Only three days left! ⏰ Take advantage of 15% off all eGift Card purchases of $100 or more through the end of the year!…\n",
      "\n",
      "70)On behalf of the entire Trump Organization, we would like to wish you a very Merry Christmas and a Happy Holiday season! \n",
      "\n",
      "71)Our incredible Bellman, Jesus, at  is known for singing to guests on birthdays and other special occasions. We hope you enjoy as much as our guests do!🌟 \n",
      "\n",
      "72)Give the gift of luxury and enjoy 15% off eGift card orders of $100 or more. \n",
      "\n",
      "Redeemable for , , and Trump Spas, an array of experiences await at our destinations around the globe. Shop now at  \n",
      "\n",
      "73)We're welcoming the first day of winter with a scene from our first snowfall. These are the magical moments that we look forward to in the months ahead!❄️ \n",
      "\n",
      "74): The first day of Winter has us dreaming of the snowy Central Park views from  ❄️ \n",
      "\n",
      "75)We are incredibly proud of  and  for being awarded the No. 4 and No. 33 Top 100 Courses in the World by Golf World Magazine. Congratulations to both of our wonderful teams! \n",
      "\n",
      "76): Congratulations to  Scotland for just being named the 4 “Best Course in the World” by  Magazine an…\n",
      "\n",
      "77)The riders and foxhounds felt right at home during the Essex Fox Hunt at  this year. What a wonderful way to honor our club's history and celebrate this longstanding tradition! \n",
      "\n",
      "78): Give the gift of Trump this season. Featuring Holiday Gift Guides from , eGift Cards, and more, we have somethi…\n",
      "\n",
      "79)Every year, our corporate office collects gifts for _USA. This is an incredible cause that we are grateful to support, helping bring holiday cheer to those less fortunate in our community. \n",
      "\n",
      "80)Get in the holiday spirit while skating across the iconic , one of Central Park’s most well known attractions with spectacular New York City skyline views.✨ \n",
      "\n",
      "81): Our first snowfall of the season! ❄️ \n",
      "\n",
      "82)Our Christmas tree at  is bringing a new level of luxury to Pennsylvania Avenue.✨ \n",
      "\n",
      "83): Every Christmas, our office collects holiday presents for _USA to deliver love and happiness to less fortunate c…\n",
      "\n",
      "84)Unwind by an inviting fire and discover a wealth of whiskies and classic cocktails at ’s Clavis Whisky Bar.🥃 \n",
      "\n"
     ]
    }
   ],
   "source": [
    "i=1\n",
    "postdf=df.sort_values(by=['Polarity'],ascending=False)\n",
    "for j in range(0,postdf.shape[0]):\n",
    "    if(postdf['Analysis'][j]=='Positive'):\n",
    "        print(str(i)+')'+postdf['Tweets'][j])\n",
    "        print()\n",
    "        i=i+1"
   ]
  },
  {
   "cell_type": "markdown",
   "metadata": {},
   "source": [
    "### Only Negative Comments"
   ]
  },
  {
   "cell_type": "code",
   "execution_count": 67,
   "metadata": {},
   "outputs": [
    {
     "name": "stdout",
     "output_type": "stream",
     "text": [
      "1): Today we celebrate women in the game of golf and recognize the skills, relationships, and experiences that are created throu…\n",
      "\n",
      "2)Savor the sweetness of  chocolates all summer long. Shipping of our decadent treats will pause May 1st and resume September 30th. Stock up today! \n",
      "\n",
      "3): Not content with just donning green hats, everything from buildings to rivers goes green for St Patrick's Day! \n",
      "St. Patri…\n",
      "\n"
     ]
    }
   ],
   "source": [
    "i=1\n",
    "postdf=df.sort_values(by=['Polarity'])\n",
    "for j in range(0,postdf.shape[0]):\n",
    "    if(postdf['Analysis'][j]=='negative'):\n",
    "        print(str(i)+')'+postdf['Tweets'][j])\n",
    "        print()\n",
    "        i=i+1"
   ]
  },
  {
   "cell_type": "markdown",
   "metadata": {},
   "source": [
    "### Neutral Comments"
   ]
  },
  {
   "cell_type": "code",
   "execution_count": 69,
   "metadata": {},
   "outputs": [
    {
     "name": "stdout",
     "output_type": "stream",
     "text": [
      "1)‘Tis the season for lounging poolside. \n",
      "\n",
      "2)Escape to enchanting  for an unmatched travel experience. \n",
      "\n",
      "Our  NeverSettleSummer offer features a dining credit and your choice of a Cliffs of Moher picnic or Horseback Riding excursion. Book today:\n",
      " \n",
      "\n",
      "3)Everything you need to unwind. \n",
      "\n",
      "4): Take your travels to the next level this summer with our curated NeverSettleSummer packages. Varying by destination and i…\n",
      "\n",
      "5)We're toasting to WorldCocktailDay with a round-up of expertly crafted cocktails from our  and  destinations around the globe.🍹 \n",
      "\n",
      "6)Discover the ultimate golf resort experience at , where luxury is woven into every detail. \n",
      "\n",
      "📷:  \n",
      "\n",
      "7)We’re spending NationalBeerDay with a decadent burger followed by a lavish afternoon on the white sand beaches of . \n",
      "\n",
      "8): Spring Toward Travel with ! Featuring a spring themed amenity and a generous credit towards dining, their off…\n",
      "\n",
      "9)If we could be anywhere in the world this StPatricksDay, we'd be at , where Irish history and tradition is woven into every detail. \n",
      "\n",
      "10): Weekends were made for our signature Martinis 🍸 What are you sipping on today? \n",
      "\n",
      "11): Friday plans? You'll find us lounging at the Royal Palm Pool. \n",
      "\n",
      "12)Our signature Trump clock stands out in every setting. \n",
      "\n",
      "13): From championship golf to world-class scotch and everything in between, our annual TrumpChallenge was one for the books! Co…\n",
      "\n"
     ]
    }
   ],
   "source": [
    "i=1\n",
    "postdf=df.sort_values(by=['Polarity'])\n",
    "for j in range(0,postdf.shape[0]):\n",
    "    if(postdf['Analysis'][j]=='Neutral'):\n",
    "        print(str(i)+')'+postdf['Tweets'][j])\n",
    "        print()\n",
    "        i=i+1"
   ]
  },
  {
   "cell_type": "code",
   "execution_count": null,
   "metadata": {},
   "outputs": [],
   "source": []
  }
 ],
 "metadata": {
  "kernelspec": {
   "display_name": "Python 3",
   "language": "python",
   "name": "python3"
  },
  "language_info": {
   "codemirror_mode": {
    "name": "ipython",
    "version": 3
   },
   "file_extension": ".py",
   "mimetype": "text/x-python",
   "name": "python",
   "nbconvert_exporter": "python",
   "pygments_lexer": "ipython3",
   "version": "3.7.6"
  }
 },
 "nbformat": 4,
 "nbformat_minor": 4
}
